{
 "cells": [
  {
   "cell_type": "markdown",
   "metadata": {},
   "source": [
    "# baseline report\n",
    "\n",
    "**prep data**\n",
    "1. filter only 'Sleep stage W', 'Sleep stage 4' labels\n",
    "2. train valid split by person\n",
    "3. min max scale EEG data\n",
    "\n",
    "**metrics**\n",
    "\n",
    "|label |precision  | recall|\n",
    "--- | --- | ---|\n",
    "|sleep stage 4|0.9699|0.9215|\n",
    "|sleep stage W|0.9992|0.5170|\n"
   ]
  },
  {
   "cell_type": "code",
   "execution_count": 1,
   "metadata": {},
   "outputs": [],
   "source": [
    "from lightgbm import LGBMClassifier, early_stopping\n",
    "from sklearn.model_selection import train_test_split\n",
    "from sklearn.metrics import precision_recall_curve, roc_auc_score, PrecisionRecallDisplay\n",
    "import numpy as np\n",
    "import pandas as pd\n",
    "import seaborn as sns\n",
    "import matplotlib.pyplot as plt\n",
    "from IPython.core.debugger import set_trace\n",
    "from tqdm.notebook import tqdm"
   ]
  },
  {
   "cell_type": "markdown",
   "metadata": {},
   "source": [
    "# load data"
   ]
  },
  {
   "cell_type": "code",
   "execution_count": 2,
   "metadata": {},
   "outputs": [],
   "source": [
    "train_data = np.load('../data/raw/train_samples.win500.npy', allow_pickle=True)\n",
    "test_data = np.load('../data/raw/two_stage_test.npy', allow_pickle=True)"
   ]
  },
  {
   "cell_type": "code",
   "execution_count": 3,
   "metadata": {},
   "outputs": [
    {
     "data": {
      "text/plain": [
       "((324552,), (15696,))"
      ]
     },
     "execution_count": 3,
     "metadata": {},
     "output_type": "execute_result"
    }
   ],
   "source": [
    "train_data.shape, test_data.shape"
   ]
  },
  {
   "cell_type": "code",
   "execution_count": 4,
   "metadata": {},
   "outputs": [],
   "source": [
    "df_train = pd.DataFrame(list(train_data))\n",
    "df_test = pd.DataFrame(list(test_data))"
   ]
  },
  {
   "cell_type": "code",
   "execution_count": 5,
   "metadata": {},
   "outputs": [
    {
     "data": {
      "text/html": [
       "<div>\n",
       "<style scoped>\n",
       "    .dataframe tbody tr th:only-of-type {\n",
       "        vertical-align: middle;\n",
       "    }\n",
       "\n",
       "    .dataframe tbody tr th {\n",
       "        vertical-align: top;\n",
       "    }\n",
       "\n",
       "    .dataframe thead th {\n",
       "        text-align: right;\n",
       "    }\n",
       "</style>\n",
       "<table border=\"1\" class=\"dataframe\">\n",
       "  <thead>\n",
       "    <tr style=\"text-align: right;\">\n",
       "      <th></th>\n",
       "      <th>label</th>\n",
       "      <th>time</th>\n",
       "      <th>value</th>\n",
       "      <th>person</th>\n",
       "    </tr>\n",
       "  </thead>\n",
       "  <tbody>\n",
       "    <tr>\n",
       "      <th>0</th>\n",
       "      <td>Sleep stage W</td>\n",
       "      <td>0</td>\n",
       "      <td>[[-72.44151404151403, 1.0683760683760717], [-7...</td>\n",
       "      <td>SC4022</td>\n",
       "    </tr>\n",
       "    <tr>\n",
       "      <th>1</th>\n",
       "      <td>Sleep stage W</td>\n",
       "      <td>5</td>\n",
       "      <td>[[-8.093772893772893, 2.3504273504273536], [-1...</td>\n",
       "      <td>SC4022</td>\n",
       "    </tr>\n",
       "    <tr>\n",
       "      <th>2</th>\n",
       "      <td>Sleep stage W</td>\n",
       "      <td>10</td>\n",
       "      <td>[[62.52039072039072, 7.136752136752141], [70.4...</td>\n",
       "      <td>SC4022</td>\n",
       "    </tr>\n",
       "    <tr>\n",
       "      <th>3</th>\n",
       "      <td>Sleep stage W</td>\n",
       "      <td>15</td>\n",
       "      <td>[[-3.2302808302808286, 1.2393162393162427], [-...</td>\n",
       "      <td>SC4022</td>\n",
       "    </tr>\n",
       "    <tr>\n",
       "      <th>4</th>\n",
       "      <td>Sleep stage W</td>\n",
       "      <td>20</td>\n",
       "      <td>[[-12.770207570207567, -12.094017094017088], [...</td>\n",
       "      <td>SC4022</td>\n",
       "    </tr>\n",
       "  </tbody>\n",
       "</table>\n",
       "</div>"
      ],
      "text/plain": [
       "           label time                                              value  \\\n",
       "0  Sleep stage W    0  [[-72.44151404151403, 1.0683760683760717], [-7...   \n",
       "1  Sleep stage W    5  [[-8.093772893772893, 2.3504273504273536], [-1...   \n",
       "2  Sleep stage W   10  [[62.52039072039072, 7.136752136752141], [70.4...   \n",
       "3  Sleep stage W   15  [[-3.2302808302808286, 1.2393162393162427], [-...   \n",
       "4  Sleep stage W   20  [[-12.770207570207567, -12.094017094017088], [...   \n",
       "\n",
       "   person  \n",
       "0  SC4022  \n",
       "1  SC4022  \n",
       "2  SC4022  \n",
       "3  SC4022  \n",
       "4  SC4022  "
      ]
     },
     "execution_count": 5,
     "metadata": {},
     "output_type": "execute_result"
    }
   ],
   "source": [
    "df_train.head()"
   ]
  },
  {
   "cell_type": "code",
   "execution_count": 6,
   "metadata": {},
   "outputs": [],
   "source": [
    "df_train_ch = df_train[df_train['label'].isin(['Sleep stage W', 'Sleep stage 4'])]"
   ]
  },
  {
   "cell_type": "code",
   "execution_count": 7,
   "metadata": {},
   "outputs": [
    {
     "data": {
      "text/plain": [
       "(234996, 4)"
      ]
     },
     "execution_count": 7,
     "metadata": {},
     "output_type": "execute_result"
    }
   ],
   "source": [
    "df_train_ch.shape"
   ]
  },
  {
   "cell_type": "markdown",
   "metadata": {},
   "source": [
    "# prep data"
   ]
  },
  {
   "cell_type": "code",
   "execution_count": 8,
   "metadata": {},
   "outputs": [],
   "source": [
    "train_persons, valid_persons = train_test_split(df_train['person'].unique(), test_size=0.1)"
   ]
  },
  {
   "cell_type": "code",
   "execution_count": 9,
   "metadata": {},
   "outputs": [],
   "source": [
    "ss4_count = df_train[df_train['person'].isin(list(train_persons)) & (df_train['label'] == 'Sleep stage 4')].shape[0]"
   ]
  },
  {
   "cell_type": "code",
   "execution_count": 10,
   "metadata": {},
   "outputs": [],
   "source": [
    "ssw_count = df_train[df_train['person'].isin(list(train_persons)) & (df_train['label'] == 'Sleep stage W')].shape[0]"
   ]
  },
  {
   "cell_type": "code",
   "execution_count": 11,
   "metadata": {},
   "outputs": [
    {
     "data": {
      "text/plain": [
       "0.01447352550958871"
      ]
     },
     "execution_count": 11,
     "metadata": {},
     "output_type": "execute_result"
    }
   ],
   "source": [
    "ss4_count / (ss4_count + ssw_count)"
   ]
  },
  {
   "cell_type": "code",
   "execution_count": 12,
   "metadata": {},
   "outputs": [],
   "source": [
    "ss4_valid_count = df_train[df_train['person'].isin(list(valid_persons)) & (df_train['label'] == 'Sleep stage 4')].shape[0]"
   ]
  },
  {
   "cell_type": "code",
   "execution_count": 13,
   "metadata": {},
   "outputs": [],
   "source": [
    "ssw_valid_count = df_train[df_train['person'].isin(list(valid_persons)) & (df_train['label'] == 'Sleep stage W')].shape[0]"
   ]
  },
  {
   "cell_type": "code",
   "execution_count": 14,
   "metadata": {},
   "outputs": [
    {
     "data": {
      "text/plain": [
       "0.015661446184605132"
      ]
     },
     "execution_count": 14,
     "metadata": {},
     "output_type": "execute_result"
    }
   ],
   "source": [
    "ss4_valid_count / (ss4_valid_count + ssw_valid_count)"
   ]
  },
  {
   "cell_type": "code",
   "execution_count": 15,
   "metadata": {},
   "outputs": [],
   "source": [
    "def min_max_scaler(y):\n",
    "    y_ = y.T\n",
    "    y_min = y_.min(axis=1).reshape(-1, 1)\n",
    "    y_max = y_.max(axis=1).reshape(-1, 1)\n",
    "    res = (y_ - y_min) / (y_max - y_min)\n",
    "    return res.T"
   ]
  },
  {
   "cell_type": "code",
   "execution_count": 16,
   "metadata": {},
   "outputs": [],
   "source": [
    "def train_valid_prep(data, train_person_list=None, valid_preson_list=None):\n",
    "    train_feature_flatten = []\n",
    "    train_target_list = []\n",
    "    valid_feature_flatten = []\n",
    "    valid_target_list = []\n",
    "    \n",
    "    for row in tqdm(data):\n",
    "        if row['label'] == 'Sleep stage 4':\n",
    "            target = 1\n",
    "        elif row['label'] == 'Sleep stage W':\n",
    "            target = 0\n",
    "        else:\n",
    "            continue\n",
    "        \n",
    "        if  train_person_list is None or row['person'] in train_person_list:\n",
    "            value_scaled = min_max_scaler(row['value'])\n",
    "            train_feature_flatten.append(value_scaled.flatten().astype(np.float32))\n",
    "            train_target_list.append(target)\n",
    "            \n",
    "        elif row['person'] in valid_preson_list:\n",
    "            value_scaled = min_max_scaler(row['value'])\n",
    "            valid_feature_flatten.append(value_scaled.flatten().astype(np.float32))\n",
    "            valid_target_list.append(target)\n",
    "            \n",
    "            \n",
    "        \n",
    "    return np.array(train_feature_flatten), np.array(train_target_list), np.array(valid_feature_flatten), np.array(valid_target_list)"
   ]
  },
  {
   "cell_type": "code",
   "execution_count": 17,
   "metadata": {},
   "outputs": [
    {
     "data": {
      "application/vnd.jupyter.widget-view+json": {
       "model_id": "97c360565c0146aba05dd4c204924ca9",
       "version_major": 2,
       "version_minor": 0
      },
      "text/plain": [
       "HBox(children=(FloatProgress(value=0.0, max=324552.0), HTML(value='')))"
      ]
     },
     "metadata": {},
     "output_type": "display_data"
    },
    {
     "name": "stdout",
     "output_type": "stream",
     "text": [
      "\n"
     ]
    },
    {
     "data": {
      "application/vnd.jupyter.widget-view+json": {
       "model_id": "01392440eb634b1fa92d7111c55c56c4",
       "version_major": 2,
       "version_minor": 0
      },
      "text/plain": [
       "HBox(children=(FloatProgress(value=0.0, max=15696.0), HTML(value='')))"
      ]
     },
     "metadata": {},
     "output_type": "display_data"
    },
    {
     "name": "stderr",
     "output_type": "stream",
     "text": [
      "C:\\Users\\tarel\\Anaconda3\\lib\\site-packages\\ipykernel_launcher.py:5: RuntimeWarning: invalid value encountered in true_divide\n",
      "  \"\"\"\n"
     ]
    },
    {
     "name": "stdout",
     "output_type": "stream",
     "text": [
      "\n"
     ]
    }
   ],
   "source": [
    "X_train, y_train, X_valid, y_valid = train_valid_prep(train_data, train_persons, valid_persons)\n",
    "X_test, y_test, _, _ = train_valid_prep(test_data)"
   ]
  },
  {
   "cell_type": "code",
   "execution_count": 19,
   "metadata": {},
   "outputs": [
    {
     "data": {
      "text/plain": [
       "(array([[0.57221913, 0.11949685, 0.4825678 , ..., 0.14814815, 0.5113448 ,\n",
       "         0.3906359 ],\n",
       "        [0.44766507, 0.2644135 , 0.3900966 , ..., 0.1742876 , 0.40619966,\n",
       "         0.60503644]], dtype=float32),\n",
       " array([[nan, nan, nan, ..., nan, nan, nan],\n",
       "        [nan, nan, nan, ..., nan, nan, nan]], dtype=float32))"
      ]
     },
     "execution_count": 19,
     "metadata": {},
     "output_type": "execute_result"
    }
   ],
   "source": [
    "X_train[:2], X_test[:2]"
   ]
  },
  {
   "cell_type": "code",
   "execution_count": 3,
   "metadata": {},
   "outputs": [
    {
     "ename": "NameError",
     "evalue": "name 'X_test' is not defined",
     "output_type": "error",
     "traceback": [
      "\u001b[1;31m---------------------------------------------------------------------------\u001b[0m",
      "\u001b[1;31mNameError\u001b[0m                                 Traceback (most recent call last)",
      "\u001b[1;32m<ipython-input-3-2e39887894e7>\u001b[0m in \u001b[0;36m<module>\u001b[1;34m\u001b[0m\n\u001b[1;32m----> 1\u001b[1;33m \u001b[0mX_test\u001b[0m\u001b[1;33m[\u001b[0m\u001b[1;36m4\u001b[0m\u001b[1;33m]\u001b[0m\u001b[1;33m[\u001b[0m\u001b[1;33m:\u001b[0m\u001b[1;36m4\u001b[0m\u001b[1;33m]\u001b[0m\u001b[1;33m\u001b[0m\u001b[1;33m\u001b[0m\u001b[0m\n\u001b[0m",
      "\u001b[1;31mNameError\u001b[0m: name 'X_test' is not defined"
     ]
    }
   ],
   "source": [
    "X_test[4][:4]"
   ]
  },
  {
   "cell_type": "code",
   "execution_count": 36,
   "metadata": {},
   "outputs": [
    {
     "data": {
      "text/plain": [
       "0.0"
      ]
     },
     "execution_count": 36,
     "metadata": {},
     "output_type": "execute_result"
    }
   ],
   "source": [
    "np.array([all(x) for x in np.isnan(X_train)]).mean()"
   ]
  },
  {
   "cell_type": "code",
   "execution_count": 35,
   "metadata": {},
   "outputs": [
    {
     "data": {
      "text/plain": [
       "0.005479102956167176"
      ]
     },
     "execution_count": 35,
     "metadata": {},
     "output_type": "execute_result"
    }
   ],
   "source": [
    "np.array([all(x) for x in np.isnan(X_test)]).mean()"
   ]
  },
  {
   "cell_type": "code",
   "execution_count": 33,
   "metadata": {},
   "outputs": [],
   "source": [
    "ind_nan = np.where(np.array([all(x) for x in np.isnan(X_test)]))[0]"
   ]
  },
  {
   "cell_type": "code",
   "execution_count": 34,
   "metadata": {},
   "outputs": [
    {
     "data": {
      "text/plain": [
       "array([0, 0, 0, 0, 0, 0, 0, 0, 0, 0, 0, 0, 0, 0, 0, 0, 0, 0, 0, 0, 0, 0,\n",
       "       0, 0, 0, 0, 0, 0, 0, 0, 0, 0, 0, 0, 0, 0, 0, 0, 0, 0, 0, 0, 0, 0,\n",
       "       0, 0, 0, 0, 0, 0, 0, 0, 0, 0, 0, 0, 0, 0, 0, 0, 0, 0, 0, 0, 0, 0,\n",
       "       0, 0, 0, 0, 0, 0, 0, 0, 0, 0, 0, 0, 0, 0, 0, 0, 0, 0, 0, 0])"
      ]
     },
     "execution_count": 34,
     "metadata": {},
     "output_type": "execute_result"
    }
   ],
   "source": [
    "y_test[ind_nan]"
   ]
  },
  {
   "cell_type": "code",
   "execution_count": 37,
   "metadata": {},
   "outputs": [
    {
     "data": {
      "text/plain": [
       "(0.016406156783200097, 0.004253810705423609, 0.5229357798165137)"
      ]
     },
     "execution_count": 37,
     "metadata": {},
     "output_type": "execute_result"
    }
   ],
   "source": [
    "y_train.mean(), y_valid.mean(), y_test.mean()"
   ]
  },
  {
   "cell_type": "markdown",
   "metadata": {},
   "source": [
    "# train model"
   ]
  },
  {
   "cell_type": "code",
   "execution_count": 38,
   "metadata": {},
   "outputs": [],
   "source": [
    "model = LGBMClassifier(\n",
    "    n_estimators=1_000,\n",
    "    random_state=0\n",
    ")"
   ]
  },
  {
   "cell_type": "code",
   "execution_count": 39,
   "metadata": {},
   "outputs": [
    {
     "name": "stdout",
     "output_type": "stream",
     "text": [
      "[1]\tvalid_0's binary_logloss: 0.0332378\n",
      "Training until validation scores don't improve for 5 rounds\n",
      "[2]\tvalid_0's binary_logloss: 0.0332299\n",
      "[3]\tvalid_0's binary_logloss: 0.0323551\n",
      "[4]\tvalid_0's binary_logloss: 0.0313612\n",
      "[5]\tvalid_0's binary_logloss: 0.0305693\n",
      "[6]\tvalid_0's binary_logloss: 0.030013\n",
      "[7]\tvalid_0's binary_logloss: 0.0292222\n",
      "[8]\tvalid_0's binary_logloss: 0.0285718\n",
      "[9]\tvalid_0's binary_logloss: 0.0278535\n",
      "[10]\tvalid_0's binary_logloss: 0.0271656\n",
      "[11]\tvalid_0's binary_logloss: 0.0263841\n",
      "[12]\tvalid_0's binary_logloss: 0.0258147\n",
      "[13]\tvalid_0's binary_logloss: 0.0252572\n",
      "[14]\tvalid_0's binary_logloss: 0.0246535\n",
      "[15]\tvalid_0's binary_logloss: 0.0240135\n",
      "[16]\tvalid_0's binary_logloss: 0.0233931\n",
      "[17]\tvalid_0's binary_logloss: 0.022923\n",
      "[18]\tvalid_0's binary_logloss: 0.0224351\n",
      "[19]\tvalid_0's binary_logloss: 0.0219095\n",
      "[20]\tvalid_0's binary_logloss: 0.0214027\n",
      "[21]\tvalid_0's binary_logloss: 0.020956\n",
      "[22]\tvalid_0's binary_logloss: 0.0205218\n",
      "[23]\tvalid_0's binary_logloss: 0.0201377\n",
      "[24]\tvalid_0's binary_logloss: 0.0196913\n",
      "[25]\tvalid_0's binary_logloss: 0.019248\n",
      "[26]\tvalid_0's binary_logloss: 0.0187705\n",
      "[27]\tvalid_0's binary_logloss: 0.018442\n",
      "[28]\tvalid_0's binary_logloss: 0.0180581\n",
      "[29]\tvalid_0's binary_logloss: 0.0177293\n",
      "[30]\tvalid_0's binary_logloss: 0.0172845\n",
      "[31]\tvalid_0's binary_logloss: 0.0169476\n",
      "[32]\tvalid_0's binary_logloss: 0.0166488\n",
      "[33]\tvalid_0's binary_logloss: 0.0163915\n",
      "[34]\tvalid_0's binary_logloss: 0.016084\n",
      "[35]\tvalid_0's binary_logloss: 0.0158428\n",
      "[36]\tvalid_0's binary_logloss: 0.0155528\n",
      "[37]\tvalid_0's binary_logloss: 0.0152083\n",
      "[38]\tvalid_0's binary_logloss: 0.0149875\n",
      "[39]\tvalid_0's binary_logloss: 0.0147468\n",
      "[40]\tvalid_0's binary_logloss: 0.0145353\n",
      "[41]\tvalid_0's binary_logloss: 0.014287\n",
      "[42]\tvalid_0's binary_logloss: 0.0140096\n",
      "[43]\tvalid_0's binary_logloss: 0.0138164\n",
      "[44]\tvalid_0's binary_logloss: 0.013654\n",
      "[45]\tvalid_0's binary_logloss: 0.0134325\n",
      "[46]\tvalid_0's binary_logloss: 0.0132241\n",
      "[47]\tvalid_0's binary_logloss: 0.0129735\n",
      "[48]\tvalid_0's binary_logloss: 0.0127439\n",
      "[49]\tvalid_0's binary_logloss: 0.0125688\n",
      "[50]\tvalid_0's binary_logloss: 0.0124116\n",
      "[51]\tvalid_0's binary_logloss: 0.0122469\n",
      "[52]\tvalid_0's binary_logloss: 0.0121027\n",
      "[53]\tvalid_0's binary_logloss: 0.0119264\n",
      "[54]\tvalid_0's binary_logloss: 0.0117685\n",
      "[55]\tvalid_0's binary_logloss: 0.0115925\n",
      "[56]\tvalid_0's binary_logloss: 0.0114915\n",
      "[57]\tvalid_0's binary_logloss: 0.0113643\n",
      "[58]\tvalid_0's binary_logloss: 0.0112468\n",
      "[59]\tvalid_0's binary_logloss: 0.0111248\n",
      "[60]\tvalid_0's binary_logloss: 0.0109876\n",
      "[61]\tvalid_0's binary_logloss: 0.0108492\n",
      "[62]\tvalid_0's binary_logloss: 0.0107484\n",
      "[63]\tvalid_0's binary_logloss: 0.0106451\n",
      "[64]\tvalid_0's binary_logloss: 0.0105311\n",
      "[65]\tvalid_0's binary_logloss: 0.0103987\n",
      "[66]\tvalid_0's binary_logloss: 0.0102543\n",
      "[67]\tvalid_0's binary_logloss: 0.0101361\n",
      "[68]\tvalid_0's binary_logloss: 0.0100099\n",
      "[69]\tvalid_0's binary_logloss: 0.00988794\n",
      "[70]\tvalid_0's binary_logloss: 0.00980705\n",
      "[71]\tvalid_0's binary_logloss: 0.00973418\n",
      "[72]\tvalid_0's binary_logloss: 0.00964488\n",
      "[73]\tvalid_0's binary_logloss: 0.0095226\n",
      "[74]\tvalid_0's binary_logloss: 0.00941358\n",
      "[75]\tvalid_0's binary_logloss: 0.00932316\n",
      "[76]\tvalid_0's binary_logloss: 0.00923655\n",
      "[77]\tvalid_0's binary_logloss: 0.00912547\n",
      "[78]\tvalid_0's binary_logloss: 0.00904109\n",
      "[79]\tvalid_0's binary_logloss: 0.00895104\n",
      "[80]\tvalid_0's binary_logloss: 0.00887577\n",
      "[81]\tvalid_0's binary_logloss: 0.00881965\n",
      "[82]\tvalid_0's binary_logloss: 0.00870716\n",
      "[83]\tvalid_0's binary_logloss: 0.00863855\n",
      "[84]\tvalid_0's binary_logloss: 0.0085313\n",
      "[85]\tvalid_0's binary_logloss: 0.00846872\n",
      "[86]\tvalid_0's binary_logloss: 0.00838475\n",
      "[87]\tvalid_0's binary_logloss: 0.00834412\n",
      "[88]\tvalid_0's binary_logloss: 0.00831434\n",
      "[89]\tvalid_0's binary_logloss: 0.00822659\n",
      "[90]\tvalid_0's binary_logloss: 0.00814525\n",
      "[91]\tvalid_0's binary_logloss: 0.00810913\n",
      "[92]\tvalid_0's binary_logloss: 0.00805865\n",
      "[93]\tvalid_0's binary_logloss: 0.00805311\n",
      "[94]\tvalid_0's binary_logloss: 0.00800409\n",
      "[95]\tvalid_0's binary_logloss: 0.00797579\n",
      "[96]\tvalid_0's binary_logloss: 0.00794096\n",
      "[97]\tvalid_0's binary_logloss: 0.00789652\n",
      "[98]\tvalid_0's binary_logloss: 0.00782966\n",
      "[99]\tvalid_0's binary_logloss: 0.00775089\n",
      "[100]\tvalid_0's binary_logloss: 0.00763951\n",
      "[101]\tvalid_0's binary_logloss: 0.00758106\n",
      "[102]\tvalid_0's binary_logloss: 0.00751019\n",
      "[103]\tvalid_0's binary_logloss: 0.00744439\n",
      "[104]\tvalid_0's binary_logloss: 0.00736492\n",
      "[105]\tvalid_0's binary_logloss: 0.00732141\n",
      "[106]\tvalid_0's binary_logloss: 0.00725926\n",
      "[107]\tvalid_0's binary_logloss: 0.00722202\n",
      "[108]\tvalid_0's binary_logloss: 0.00719567\n",
      "[109]\tvalid_0's binary_logloss: 0.00717382\n",
      "[110]\tvalid_0's binary_logloss: 0.00710607\n",
      "[111]\tvalid_0's binary_logloss: 0.00704031\n",
      "[112]\tvalid_0's binary_logloss: 0.00697306\n",
      "[113]\tvalid_0's binary_logloss: 0.00692625\n",
      "[114]\tvalid_0's binary_logloss: 0.00688592\n",
      "[115]\tvalid_0's binary_logloss: 0.00684767\n",
      "[116]\tvalid_0's binary_logloss: 0.0067889\n",
      "[117]\tvalid_0's binary_logloss: 0.00674979\n",
      "[118]\tvalid_0's binary_logloss: 0.00671358\n",
      "[119]\tvalid_0's binary_logloss: 0.00667168\n",
      "[120]\tvalid_0's binary_logloss: 0.00664783\n",
      "[121]\tvalid_0's binary_logloss: 0.00660279\n",
      "[122]\tvalid_0's binary_logloss: 0.0065675\n",
      "[123]\tvalid_0's binary_logloss: 0.00654196\n",
      "[124]\tvalid_0's binary_logloss: 0.00650235\n",
      "[125]\tvalid_0's binary_logloss: 0.00644131\n",
      "[126]\tvalid_0's binary_logloss: 0.0064249\n",
      "[127]\tvalid_0's binary_logloss: 0.00637724\n",
      "[128]\tvalid_0's binary_logloss: 0.00636011\n",
      "[129]\tvalid_0's binary_logloss: 0.0063174\n",
      "[130]\tvalid_0's binary_logloss: 0.00629379\n",
      "[131]\tvalid_0's binary_logloss: 0.00625159\n",
      "[132]\tvalid_0's binary_logloss: 0.0062079\n",
      "[133]\tvalid_0's binary_logloss: 0.00616829\n",
      "[134]\tvalid_0's binary_logloss: 0.00611721\n",
      "[135]\tvalid_0's binary_logloss: 0.00605073\n",
      "[136]\tvalid_0's binary_logloss: 0.00601772\n",
      "[137]\tvalid_0's binary_logloss: 0.00599747\n",
      "[138]\tvalid_0's binary_logloss: 0.00597006\n",
      "[139]\tvalid_0's binary_logloss: 0.00592359\n",
      "[140]\tvalid_0's binary_logloss: 0.00590547\n",
      "[141]\tvalid_0's binary_logloss: 0.00587373\n",
      "[142]\tvalid_0's binary_logloss: 0.00584552\n",
      "[143]\tvalid_0's binary_logloss: 0.00580766\n",
      "[144]\tvalid_0's binary_logloss: 0.00579734\n",
      "[145]\tvalid_0's binary_logloss: 0.0057464\n",
      "[146]\tvalid_0's binary_logloss: 0.005728\n",
      "[147]\tvalid_0's binary_logloss: 0.00570771\n",
      "[148]\tvalid_0's binary_logloss: 0.00570512\n",
      "[149]\tvalid_0's binary_logloss: 0.00567028\n",
      "[150]\tvalid_0's binary_logloss: 0.00565025\n",
      "[151]\tvalid_0's binary_logloss: 0.00561885\n",
      "[152]\tvalid_0's binary_logloss: 0.00558929\n",
      "[153]\tvalid_0's binary_logloss: 0.00557863\n",
      "[154]\tvalid_0's binary_logloss: 0.00556412\n",
      "[155]\tvalid_0's binary_logloss: 0.00554189\n",
      "[156]\tvalid_0's binary_logloss: 0.00554113\n",
      "[157]\tvalid_0's binary_logloss: 0.00550891\n",
      "[158]\tvalid_0's binary_logloss: 0.00547347\n",
      "[159]\tvalid_0's binary_logloss: 0.00545277\n",
      "[160]\tvalid_0's binary_logloss: 0.00542916\n",
      "[161]\tvalid_0's binary_logloss: 0.00540603\n",
      "[162]\tvalid_0's binary_logloss: 0.00539589\n",
      "[163]\tvalid_0's binary_logloss: 0.00538265\n",
      "[164]\tvalid_0's binary_logloss: 0.00534495\n",
      "[165]\tvalid_0's binary_logloss: 0.00532199\n",
      "[166]\tvalid_0's binary_logloss: 0.00530183\n",
      "[167]\tvalid_0's binary_logloss: 0.00528857\n",
      "[168]\tvalid_0's binary_logloss: 0.00527539\n",
      "[169]\tvalid_0's binary_logloss: 0.00524283\n",
      "[170]\tvalid_0's binary_logloss: 0.005219\n",
      "[171]\tvalid_0's binary_logloss: 0.00518112\n",
      "[172]\tvalid_0's binary_logloss: 0.00517731\n",
      "[173]\tvalid_0's binary_logloss: 0.00516299\n",
      "[174]\tvalid_0's binary_logloss: 0.00516443\n",
      "[175]\tvalid_0's binary_logloss: 0.00515825\n",
      "[176]\tvalid_0's binary_logloss: 0.00512061\n",
      "[177]\tvalid_0's binary_logloss: 0.00510396\n",
      "[178]\tvalid_0's binary_logloss: 0.00509311\n",
      "[179]\tvalid_0's binary_logloss: 0.00507298\n",
      "[180]\tvalid_0's binary_logloss: 0.00504049\n",
      "[181]\tvalid_0's binary_logloss: 0.00499922\n",
      "[182]\tvalid_0's binary_logloss: 0.00496887\n",
      "[183]\tvalid_0's binary_logloss: 0.00494989\n",
      "[184]\tvalid_0's binary_logloss: 0.0049139\n",
      "[185]\tvalid_0's binary_logloss: 0.00488246\n",
      "[186]\tvalid_0's binary_logloss: 0.00488262\n",
      "[187]\tvalid_0's binary_logloss: 0.00486115\n",
      "[188]\tvalid_0's binary_logloss: 0.0048538\n",
      "[189]\tvalid_0's binary_logloss: 0.00481661\n",
      "[190]\tvalid_0's binary_logloss: 0.00478911\n",
      "[191]\tvalid_0's binary_logloss: 0.00476149\n",
      "[192]\tvalid_0's binary_logloss: 0.00474778\n",
      "[193]\tvalid_0's binary_logloss: 0.00472669\n",
      "[194]\tvalid_0's binary_logloss: 0.00469499\n"
     ]
    },
    {
     "name": "stdout",
     "output_type": "stream",
     "text": [
      "[195]\tvalid_0's binary_logloss: 0.00468074\n",
      "[196]\tvalid_0's binary_logloss: 0.00464927\n",
      "[197]\tvalid_0's binary_logloss: 0.00462389\n",
      "[198]\tvalid_0's binary_logloss: 0.00460532\n",
      "[199]\tvalid_0's binary_logloss: 0.00460737\n",
      "[200]\tvalid_0's binary_logloss: 0.0046048\n",
      "[201]\tvalid_0's binary_logloss: 0.00459476\n",
      "[202]\tvalid_0's binary_logloss: 0.00457346\n",
      "[203]\tvalid_0's binary_logloss: 0.00455881\n",
      "[204]\tvalid_0's binary_logloss: 0.00453443\n",
      "[205]\tvalid_0's binary_logloss: 0.00449921\n",
      "[206]\tvalid_0's binary_logloss: 0.00449164\n",
      "[207]\tvalid_0's binary_logloss: 0.00447055\n",
      "[208]\tvalid_0's binary_logloss: 0.00447254\n",
      "[209]\tvalid_0's binary_logloss: 0.00445652\n",
      "[210]\tvalid_0's binary_logloss: 0.00443773\n",
      "[211]\tvalid_0's binary_logloss: 0.00441984\n",
      "[212]\tvalid_0's binary_logloss: 0.00438227\n",
      "[213]\tvalid_0's binary_logloss: 0.00436764\n",
      "[214]\tvalid_0's binary_logloss: 0.00436991\n",
      "[215]\tvalid_0's binary_logloss: 0.00435547\n",
      "[216]\tvalid_0's binary_logloss: 0.00433022\n",
      "[217]\tvalid_0's binary_logloss: 0.00432048\n",
      "[218]\tvalid_0's binary_logloss: 0.0043115\n",
      "[219]\tvalid_0's binary_logloss: 0.00429424\n",
      "[220]\tvalid_0's binary_logloss: 0.00428404\n",
      "[221]\tvalid_0's binary_logloss: 0.00428494\n",
      "[222]\tvalid_0's binary_logloss: 0.00426383\n",
      "[223]\tvalid_0's binary_logloss: 0.00425528\n",
      "[224]\tvalid_0's binary_logloss: 0.00423188\n",
      "[225]\tvalid_0's binary_logloss: 0.00422768\n",
      "[226]\tvalid_0's binary_logloss: 0.00422637\n",
      "[227]\tvalid_0's binary_logloss: 0.00422054\n",
      "[228]\tvalid_0's binary_logloss: 0.00420534\n",
      "[229]\tvalid_0's binary_logloss: 0.00420259\n",
      "[230]\tvalid_0's binary_logloss: 0.00418861\n",
      "[231]\tvalid_0's binary_logloss: 0.00417217\n",
      "[232]\tvalid_0's binary_logloss: 0.00416093\n",
      "[233]\tvalid_0's binary_logloss: 0.00415811\n",
      "[234]\tvalid_0's binary_logloss: 0.00414267\n",
      "[235]\tvalid_0's binary_logloss: 0.00412598\n",
      "[236]\tvalid_0's binary_logloss: 0.00411148\n",
      "[237]\tvalid_0's binary_logloss: 0.00410373\n",
      "[238]\tvalid_0's binary_logloss: 0.00409118\n",
      "[239]\tvalid_0's binary_logloss: 0.00408457\n",
      "[240]\tvalid_0's binary_logloss: 0.00407794\n",
      "[241]\tvalid_0's binary_logloss: 0.00406946\n",
      "[242]\tvalid_0's binary_logloss: 0.00406426\n",
      "[243]\tvalid_0's binary_logloss: 0.00406339\n",
      "[244]\tvalid_0's binary_logloss: 0.00406307\n",
      "[245]\tvalid_0's binary_logloss: 0.0040453\n",
      "[246]\tvalid_0's binary_logloss: 0.00404272\n",
      "[247]\tvalid_0's binary_logloss: 0.00402836\n",
      "[248]\tvalid_0's binary_logloss: 0.00401378\n",
      "[249]\tvalid_0's binary_logloss: 0.00400036\n",
      "[250]\tvalid_0's binary_logloss: 0.00397788\n",
      "[251]\tvalid_0's binary_logloss: 0.00398836\n",
      "[252]\tvalid_0's binary_logloss: 0.00397706\n",
      "[253]\tvalid_0's binary_logloss: 0.00397197\n",
      "[254]\tvalid_0's binary_logloss: 0.00397113\n",
      "[255]\tvalid_0's binary_logloss: 0.00395823\n",
      "[256]\tvalid_0's binary_logloss: 0.003946\n",
      "[257]\tvalid_0's binary_logloss: 0.00393812\n",
      "[258]\tvalid_0's binary_logloss: 0.00394112\n",
      "[259]\tvalid_0's binary_logloss: 0.00392004\n",
      "[260]\tvalid_0's binary_logloss: 0.00391634\n",
      "[261]\tvalid_0's binary_logloss: 0.00390365\n",
      "[262]\tvalid_0's binary_logloss: 0.00389482\n",
      "[263]\tvalid_0's binary_logloss: 0.00389423\n",
      "[264]\tvalid_0's binary_logloss: 0.00388687\n",
      "[265]\tvalid_0's binary_logloss: 0.00387736\n",
      "[266]\tvalid_0's binary_logloss: 0.00386746\n",
      "[267]\tvalid_0's binary_logloss: 0.00386819\n",
      "[268]\tvalid_0's binary_logloss: 0.00385766\n",
      "[269]\tvalid_0's binary_logloss: 0.00384224\n",
      "[270]\tvalid_0's binary_logloss: 0.00383738\n",
      "[271]\tvalid_0's binary_logloss: 0.00383179\n",
      "[272]\tvalid_0's binary_logloss: 0.00382231\n",
      "[273]\tvalid_0's binary_logloss: 0.00381169\n",
      "[274]\tvalid_0's binary_logloss: 0.00378904\n",
      "[275]\tvalid_0's binary_logloss: 0.00378381\n",
      "[276]\tvalid_0's binary_logloss: 0.00376393\n",
      "[277]\tvalid_0's binary_logloss: 0.00375713\n",
      "[278]\tvalid_0's binary_logloss: 0.00374007\n",
      "[279]\tvalid_0's binary_logloss: 0.00373691\n",
      "[280]\tvalid_0's binary_logloss: 0.00373371\n",
      "[281]\tvalid_0's binary_logloss: 0.0037305\n",
      "[282]\tvalid_0's binary_logloss: 0.00372697\n",
      "[283]\tvalid_0's binary_logloss: 0.0037086\n",
      "[284]\tvalid_0's binary_logloss: 0.00369495\n",
      "[285]\tvalid_0's binary_logloss: 0.00369243\n",
      "[286]\tvalid_0's binary_logloss: 0.00367809\n",
      "[287]\tvalid_0's binary_logloss: 0.0036666\n",
      "[288]\tvalid_0's binary_logloss: 0.00365283\n",
      "[289]\tvalid_0's binary_logloss: 0.00364142\n",
      "[290]\tvalid_0's binary_logloss: 0.00363022\n",
      "[291]\tvalid_0's binary_logloss: 0.00361875\n",
      "[292]\tvalid_0's binary_logloss: 0.00361668\n",
      "[293]\tvalid_0's binary_logloss: 0.00360969\n",
      "[294]\tvalid_0's binary_logloss: 0.00359662\n",
      "[295]\tvalid_0's binary_logloss: 0.00359156\n",
      "[296]\tvalid_0's binary_logloss: 0.00357767\n",
      "[297]\tvalid_0's binary_logloss: 0.00357081\n",
      "[298]\tvalid_0's binary_logloss: 0.00355352\n",
      "[299]\tvalid_0's binary_logloss: 0.00354207\n",
      "[300]\tvalid_0's binary_logloss: 0.0035392\n",
      "[301]\tvalid_0's binary_logloss: 0.00353511\n",
      "[302]\tvalid_0's binary_logloss: 0.00352953\n",
      "[303]\tvalid_0's binary_logloss: 0.00352254\n",
      "[304]\tvalid_0's binary_logloss: 0.00350404\n",
      "[305]\tvalid_0's binary_logloss: 0.00348918\n",
      "[306]\tvalid_0's binary_logloss: 0.00349313\n",
      "[307]\tvalid_0's binary_logloss: 0.00348341\n",
      "[308]\tvalid_0's binary_logloss: 0.00347746\n",
      "[309]\tvalid_0's binary_logloss: 0.00347852\n",
      "[310]\tvalid_0's binary_logloss: 0.0034731\n",
      "[311]\tvalid_0's binary_logloss: 0.00347078\n",
      "[312]\tvalid_0's binary_logloss: 0.00346441\n",
      "[313]\tvalid_0's binary_logloss: 0.00346663\n",
      "[314]\tvalid_0's binary_logloss: 0.00345763\n",
      "[315]\tvalid_0's binary_logloss: 0.0034524\n",
      "[316]\tvalid_0's binary_logloss: 0.00344527\n",
      "[317]\tvalid_0's binary_logloss: 0.00343515\n",
      "[318]\tvalid_0's binary_logloss: 0.00343961\n",
      "[319]\tvalid_0's binary_logloss: 0.00342873\n",
      "[320]\tvalid_0's binary_logloss: 0.00342178\n",
      "[321]\tvalid_0's binary_logloss: 0.00342367\n",
      "[322]\tvalid_0's binary_logloss: 0.00342623\n",
      "[323]\tvalid_0's binary_logloss: 0.00341682\n",
      "[324]\tvalid_0's binary_logloss: 0.00340756\n",
      "[325]\tvalid_0's binary_logloss: 0.00339803\n",
      "[326]\tvalid_0's binary_logloss: 0.0033942\n",
      "[327]\tvalid_0's binary_logloss: 0.0033964\n",
      "[328]\tvalid_0's binary_logloss: 0.00339165\n",
      "[329]\tvalid_0's binary_logloss: 0.00338918\n",
      "[330]\tvalid_0's binary_logloss: 0.00339082\n",
      "[331]\tvalid_0's binary_logloss: 0.00338502\n",
      "[332]\tvalid_0's binary_logloss: 0.00337347\n",
      "[333]\tvalid_0's binary_logloss: 0.0033746\n",
      "[334]\tvalid_0's binary_logloss: 0.00336907\n",
      "[335]\tvalid_0's binary_logloss: 0.00336483\n",
      "[336]\tvalid_0's binary_logloss: 0.00336839\n",
      "[337]\tvalid_0's binary_logloss: 0.00335632\n",
      "[338]\tvalid_0's binary_logloss: 0.00335324\n",
      "[339]\tvalid_0's binary_logloss: 0.00334053\n",
      "[340]\tvalid_0's binary_logloss: 0.00333896\n",
      "[341]\tvalid_0's binary_logloss: 0.00333834\n",
      "[342]\tvalid_0's binary_logloss: 0.00333496\n",
      "[343]\tvalid_0's binary_logloss: 0.00332261\n",
      "[344]\tvalid_0's binary_logloss: 0.00331866\n",
      "[345]\tvalid_0's binary_logloss: 0.00332173\n",
      "[346]\tvalid_0's binary_logloss: 0.00331922\n",
      "[347]\tvalid_0's binary_logloss: 0.00330235\n",
      "[348]\tvalid_0's binary_logloss: 0.0032955\n",
      "[349]\tvalid_0's binary_logloss: 0.00329348\n",
      "[350]\tvalid_0's binary_logloss: 0.00328777\n",
      "[351]\tvalid_0's binary_logloss: 0.00328966\n",
      "[352]\tvalid_0's binary_logloss: 0.00328701\n",
      "[353]\tvalid_0's binary_logloss: 0.00328177\n",
      "[354]\tvalid_0's binary_logloss: 0.00327723\n",
      "[355]\tvalid_0's binary_logloss: 0.00327237\n",
      "[356]\tvalid_0's binary_logloss: 0.00327091\n",
      "[357]\tvalid_0's binary_logloss: 0.00327289\n",
      "[358]\tvalid_0's binary_logloss: 0.00327183\n",
      "[359]\tvalid_0's binary_logloss: 0.0032577\n",
      "[360]\tvalid_0's binary_logloss: 0.00325853\n",
      "[361]\tvalid_0's binary_logloss: 0.00325736\n",
      "[362]\tvalid_0's binary_logloss: 0.00325858\n",
      "[363]\tvalid_0's binary_logloss: 0.0032531\n",
      "[364]\tvalid_0's binary_logloss: 0.00325459\n",
      "[365]\tvalid_0's binary_logloss: 0.00323826\n",
      "[366]\tvalid_0's binary_logloss: 0.00323284\n",
      "[367]\tvalid_0's binary_logloss: 0.00323024\n",
      "[368]\tvalid_0's binary_logloss: 0.0032121\n",
      "[369]\tvalid_0's binary_logloss: 0.00321146\n",
      "[370]\tvalid_0's binary_logloss: 0.00321283\n",
      "[371]\tvalid_0's binary_logloss: 0.00322207\n",
      "[372]\tvalid_0's binary_logloss: 0.00322491\n",
      "[373]\tvalid_0's binary_logloss: 0.00321953\n",
      "[374]\tvalid_0's binary_logloss: 0.00322105\n",
      "Early stopping, best iteration is:\n",
      "[369]\tvalid_0's binary_logloss: 0.00321146\n"
     ]
    },
    {
     "data": {
      "text/plain": [
       "LGBMClassifier(n_estimators=1000, random_state=0)"
      ]
     },
     "execution_count": 39,
     "metadata": {},
     "output_type": "execute_result"
    }
   ],
   "source": [
    "model.fit(\n",
    "    X=X_train,\n",
    "    y=y_train,\n",
    "    eval_set=[(X_valid, y_valid)],\n",
    "    eval_metric='roc_auc',\n",
    "    callbacks=[early_stopping(5)]\n",
    ")"
   ]
  },
  {
   "cell_type": "markdown",
   "metadata": {},
   "source": [
    "# metrics"
   ]
  },
  {
   "cell_type": "code",
   "execution_count": 40,
   "metadata": {},
   "outputs": [],
   "source": [
    "train_roc_auc_score = roc_auc_score(y_train, model.predict_proba(X_train)[:, 1])\n",
    "valid_roc_auc_score = roc_auc_score(y_valid, model.predict_proba(X_valid)[:, 1])\n",
    "test_roc_auc_score = roc_auc_score(y_test, model.predict_proba(X_test)[:, 1])"
   ]
  },
  {
   "cell_type": "code",
   "execution_count": 41,
   "metadata": {},
   "outputs": [
    {
     "data": {
      "text/plain": [
       "(1.0, 0.9997173437232177, 0.990014464989337)"
      ]
     },
     "execution_count": 41,
     "metadata": {},
     "output_type": "execute_result"
    }
   ],
   "source": [
    "train_roc_auc_score, valid_roc_auc_score, test_roc_auc_score"
   ]
  },
  {
   "cell_type": "markdown",
   "metadata": {},
   "source": [
    "## precision-recall on Sleep stage 4"
   ]
  },
  {
   "cell_type": "code",
   "execution_count": 42,
   "metadata": {},
   "outputs": [],
   "source": [
    "precision, recall, _ = precision_recall_curve(y_test, model.predict_proba(X_test)[:, 1])"
   ]
  },
  {
   "cell_type": "code",
   "execution_count": 43,
   "metadata": {},
   "outputs": [],
   "source": [
    "ind = np.where(recall >= 0.92153996)[0].max()"
   ]
  },
  {
   "cell_type": "code",
   "execution_count": 44,
   "metadata": {},
   "outputs": [
    {
     "data": {
      "text/plain": [
       "(0.9698679317861264, 0.9215399610136452)"
      ]
     },
     "execution_count": 44,
     "metadata": {},
     "output_type": "execute_result"
    }
   ],
   "source": [
    "precision[ind], recall[ind]"
   ]
  },
  {
   "cell_type": "code",
   "execution_count": 45,
   "metadata": {},
   "outputs": [],
   "source": [
    "prc = PrecisionRecallDisplay(precision, recall)"
   ]
  },
  {
   "cell_type": "code",
   "execution_count": 46,
   "metadata": {},
   "outputs": [
    {
     "data": {
      "text/plain": [
       "<sklearn.metrics._plot.precision_recall_curve.PrecisionRecallDisplay at 0x21f4d38d198>"
      ]
     },
     "execution_count": 46,
     "metadata": {},
     "output_type": "execute_result"
    },
    {
     "data": {
      "image/png": "[encoded data removed]",
      "text/plain": [
       "<Figure size 432x288 with 1 Axes>"
      ]
     },
     "metadata": {
      "needs_background": "light"
     },
     "output_type": "display_data"
    }
   ],
   "source": [
    "prc.plot()"
   ]
  },
  {
   "cell_type": "markdown",
   "metadata": {},
   "source": [
    "## precision-recall on Sleep stage W"
   ]
  },
  {
   "cell_type": "code",
   "execution_count": 47,
   "metadata": {},
   "outputs": [],
   "source": [
    "y_test_0 = np.ones(len(y_test)) - np.array(y_test)"
   ]
  },
  {
   "cell_type": "code",
   "execution_count": 48,
   "metadata": {},
   "outputs": [],
   "source": [
    "precision, recall, _ = precision_recall_curve(\n",
    "    y_test_0,\n",
    "    model.predict_proba(X_test)[:, 0]\n",
    ")"
   ]
  },
  {
   "cell_type": "code",
   "execution_count": 49,
   "metadata": {},
   "outputs": [],
   "source": [
    "ind = np.where(recall >= 0.51696047)[0].max()"
   ]
  },
  {
   "cell_type": "code",
   "execution_count": 50,
   "metadata": {},
   "outputs": [
    {
     "data": {
      "text/plain": [
       "(0.999225606608157, 0.5169604700854701)"
      ]
     },
     "execution_count": 50,
     "metadata": {},
     "output_type": "execute_result"
    }
   ],
   "source": [
    "precision[ind], recall[ind]"
   ]
  },
  {
   "cell_type": "code",
   "execution_count": 51,
   "metadata": {},
   "outputs": [
    {
     "data": {
      "text/plain": [
       "<sklearn.metrics._plot.precision_recall_curve.PrecisionRecallDisplay at 0x21fc47b4588>"
      ]
     },
     "execution_count": 51,
     "metadata": {},
     "output_type": "execute_result"
    },
    {
     "data": {
      "image/png": "[encoded data removed]",
      "text/plain": [
       "<Figure size 432x288 with 1 Axes>"
      ]
     },
     "metadata": {
      "needs_background": "light"
     },
     "output_type": "display_data"
    }
   ],
   "source": [
    "prc = PrecisionRecallDisplay(precision, recall)\n",
    "prc.plot()"
   ]
  },
  {
   "cell_type": "code",
   "execution_count": null,
   "metadata": {},
   "outputs": [],
   "source": []
  }
 ],
 "metadata": {
  "kernelspec": {
   "display_name": "Python 3",
   "language": "python",
   "name": "python3"
  },
  "language_info": {
   "codemirror_mode": {
    "name": "ipython",
    "version": 3
   },
   "file_extension": ".py",
   "mimetype": "text/x-python",
   "name": "python",
   "nbconvert_exporter": "python",
   "pygments_lexer": "ipython3",
   "version": "3.7.3"
  }
 },
 "nbformat": 4,
 "nbformat_minor": 4
}
