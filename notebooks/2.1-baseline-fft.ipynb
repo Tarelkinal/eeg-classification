{
 "cells": [
  {
   "cell_type": "markdown",
   "metadata": {},
   "source": [
    "# baseline fft report\n",
    "\n",
    "**prep data**\n",
    "1. filter only 'Sleep stage W', 'Sleep stage 4' labels\n",
    "2. train valid split by person\n",
    "3. min max scale EEG data\n",
    "4. fourier transform on raw EEG data\n",
    "5. statistics in delta, theta and alpha spectrum bands as features\n",
    "6. train LBGMClassifier\n",
    "\n",
    "**metrics**\n",
    "\n",
    "|label |precision  | recall|\n",
    "--- | --- | ---|\n",
    "|sleep stage 4|0.8621|0.9215|\n",
    "|sleep stage W|0.9542|0.5170|\n"
   ]
  },
  {
   "cell_type": "code",
   "execution_count": 2,
   "metadata": {},
   "outputs": [],
   "source": [
    "from IPython.core.debugger import set_trace\n",
    "from lightgbm import LGBMClassifier, early_stopping\n",
    "from sklearn.model_selection import train_test_split\n",
    "from sklearn.metrics import precision_recall_curve, roc_auc_score, PrecisionRecallDisplay\n",
    "from sklearn.preprocessing import MinMaxScaler\n",
    "import numpy as np\n",
    "import pandas as pd\n",
    "import seaborn as sns\n",
    "import matplotlib.pyplot as plt\n",
    "from scipy.fft import fft, fftfreq, fftshift\n",
    "from tqdm.notebook import tqdm"
   ]
  },
  {
   "cell_type": "markdown",
   "metadata": {},
   "source": [
    "# load data"
   ]
  },
  {
   "cell_type": "code",
   "execution_count": 3,
   "metadata": {},
   "outputs": [],
   "source": [
    "train_data = np.load('../data/raw/train_samples.win500.npy', allow_pickle=True)\n",
    "test_data = np.load('../data/raw/two_stage_test.npy', allow_pickle=True)"
   ]
  },
  {
   "cell_type": "code",
   "execution_count": 4,
   "metadata": {},
   "outputs": [
    {
     "data": {
      "text/plain": [
       "((324552,), (15696,))"
      ]
     },
     "execution_count": 4,
     "metadata": {},
     "output_type": "execute_result"
    }
   ],
   "source": [
    "train_data.shape, test_data.shape"
   ]
  },
  {
   "cell_type": "code",
   "execution_count": 5,
   "metadata": {},
   "outputs": [],
   "source": [
    "df_train = pd.DataFrame(list(train_data))\n",
    "df_test = pd.DataFrame(list(test_data))"
   ]
  },
  {
   "cell_type": "code",
   "execution_count": 6,
   "metadata": {},
   "outputs": [
    {
     "data": {
      "text/html": [
       "<div>\n",
       "<style scoped>\n",
       "    .dataframe tbody tr th:only-of-type {\n",
       "        vertical-align: middle;\n",
       "    }\n",
       "\n",
       "    .dataframe tbody tr th {\n",
       "        vertical-align: top;\n",
       "    }\n",
       "\n",
       "    .dataframe thead th {\n",
       "        text-align: right;\n",
       "    }\n",
       "</style>\n",
       "<table border=\"1\" class=\"dataframe\">\n",
       "  <thead>\n",
       "    <tr style=\"text-align: right;\">\n",
       "      <th></th>\n",
       "      <th>label</th>\n",
       "      <th>time</th>\n",
       "      <th>value</th>\n",
       "      <th>person</th>\n",
       "    </tr>\n",
       "  </thead>\n",
       "  <tbody>\n",
       "    <tr>\n",
       "      <th>0</th>\n",
       "      <td>Sleep stage W</td>\n",
       "      <td>0</td>\n",
       "      <td>[[-72.44151404151403, 1.0683760683760717], [-7...</td>\n",
       "      <td>SC4022</td>\n",
       "    </tr>\n",
       "    <tr>\n",
       "      <th>1</th>\n",
       "      <td>Sleep stage W</td>\n",
       "      <td>5</td>\n",
       "      <td>[[-8.093772893772893, 2.3504273504273536], [-1...</td>\n",
       "      <td>SC4022</td>\n",
       "    </tr>\n",
       "    <tr>\n",
       "      <th>2</th>\n",
       "      <td>Sleep stage W</td>\n",
       "      <td>10</td>\n",
       "      <td>[[62.52039072039072, 7.136752136752141], [70.4...</td>\n",
       "      <td>SC4022</td>\n",
       "    </tr>\n",
       "    <tr>\n",
       "      <th>3</th>\n",
       "      <td>Sleep stage W</td>\n",
       "      <td>15</td>\n",
       "      <td>[[-3.2302808302808286, 1.2393162393162427], [-...</td>\n",
       "      <td>SC4022</td>\n",
       "    </tr>\n",
       "    <tr>\n",
       "      <th>4</th>\n",
       "      <td>Sleep stage W</td>\n",
       "      <td>20</td>\n",
       "      <td>[[-12.770207570207567, -12.094017094017088], [...</td>\n",
       "      <td>SC4022</td>\n",
       "    </tr>\n",
       "  </tbody>\n",
       "</table>\n",
       "</div>"
      ],
      "text/plain": [
       "           label time                                              value  \\\n",
       "0  Sleep stage W    0  [[-72.44151404151403, 1.0683760683760717], [-7...   \n",
       "1  Sleep stage W    5  [[-8.093772893772893, 2.3504273504273536], [-1...   \n",
       "2  Sleep stage W   10  [[62.52039072039072, 7.136752136752141], [70.4...   \n",
       "3  Sleep stage W   15  [[-3.2302808302808286, 1.2393162393162427], [-...   \n",
       "4  Sleep stage W   20  [[-12.770207570207567, -12.094017094017088], [...   \n",
       "\n",
       "   person  \n",
       "0  SC4022  \n",
       "1  SC4022  \n",
       "2  SC4022  \n",
       "3  SC4022  \n",
       "4  SC4022  "
      ]
     },
     "execution_count": 6,
     "metadata": {},
     "output_type": "execute_result"
    }
   ],
   "source": [
    "df_train.head()"
   ]
  },
  {
   "cell_type": "code",
   "execution_count": 8,
   "metadata": {},
   "outputs": [
    {
     "data": {
      "text/plain": [
       "numpy.float64"
      ]
     },
     "execution_count": 8,
     "metadata": {},
     "output_type": "execute_result"
    }
   ],
   "source": [
    "type(df_train['value'][0][0][0])"
   ]
  },
  {
   "cell_type": "code",
   "execution_count": 9,
   "metadata": {},
   "outputs": [],
   "source": [
    "df_train_ch = df_train[df_train['label'].isin(['Sleep stage W', 'Sleep stage 4'])]"
   ]
  },
  {
   "cell_type": "code",
   "execution_count": 10,
   "metadata": {},
   "outputs": [
    {
     "data": {
      "text/plain": [
       "(234996, 4)"
      ]
     },
     "execution_count": 10,
     "metadata": {},
     "output_type": "execute_result"
    }
   ],
   "source": [
    "df_train_ch.shape"
   ]
  },
  {
   "cell_type": "markdown",
   "metadata": {},
   "source": [
    "# prep data"
   ]
  },
  {
   "cell_type": "code",
   "execution_count": 11,
   "metadata": {},
   "outputs": [],
   "source": [
    "train_persons, valid_persons = train_test_split(df_train['person'].unique(), test_size=0.1)"
   ]
  },
  {
   "cell_type": "code",
   "execution_count": 12,
   "metadata": {},
   "outputs": [],
   "source": [
    "ss4_count = df_train[df_train['person'].isin(list(train_persons)) & (df_train['label'] == 'Sleep stage 4')].shape[0]"
   ]
  },
  {
   "cell_type": "code",
   "execution_count": 13,
   "metadata": {},
   "outputs": [],
   "source": [
    "ssw_count = df_train[df_train['person'].isin(list(train_persons)) & (df_train['label'] == 'Sleep stage W')].shape[0]"
   ]
  },
  {
   "cell_type": "code",
   "execution_count": 14,
   "metadata": {},
   "outputs": [
    {
     "data": {
      "text/plain": [
       "0.011462849676308132"
      ]
     },
     "execution_count": 14,
     "metadata": {},
     "output_type": "execute_result"
    }
   ],
   "source": [
    "ss4_count / (ss4_count + ssw_count)"
   ]
  },
  {
   "cell_type": "code",
   "execution_count": 15,
   "metadata": {},
   "outputs": [],
   "source": [
    "ss4_valid_count = df_train[df_train['person'].isin(list(valid_persons)) & (df_train['label'] == 'Sleep stage 4')].shape[0]"
   ]
  },
  {
   "cell_type": "code",
   "execution_count": 16,
   "metadata": {},
   "outputs": [],
   "source": [
    "ssw_valid_count = df_train[df_train['person'].isin(list(valid_persons)) & (df_train['label'] == 'Sleep stage W')].shape[0]"
   ]
  },
  {
   "cell_type": "code",
   "execution_count": 17,
   "metadata": {},
   "outputs": [
    {
     "data": {
      "text/plain": [
       "0.03423160961398398"
      ]
     },
     "execution_count": 17,
     "metadata": {},
     "output_type": "execute_result"
    }
   ],
   "source": [
    "ss4_valid_count / (ss4_valid_count + ssw_valid_count)"
   ]
  },
  {
   "cell_type": "code",
   "execution_count": 18,
   "metadata": {},
   "outputs": [],
   "source": [
    "def fft_feature_gen(i, j, signal):\n",
    "    feature_list = []\n",
    "    \n",
    "    N = signal.shape[0]    \n",
    "    signal_ft_ = fft(signal)\n",
    "    signal_ft_ = 2.0 / N * np.abs(signal_ft_[0: N // 2])\n",
    "    \n",
    "    signal_ft_min = signal_ft_.min()\n",
    "    signal_ft_max = signal_ft_.max()\n",
    "    \n",
    "    signal_ft = (signal_ft_ - signal_ft_min) / (signal_ft_max - signal_ft_min)\n",
    "\n",
    "    signal_ft_mean = signal_ft[i:j].mean()\n",
    "    signal_ft_max = signal_ft[i:j].max()\n",
    "    signal_ft_min = signal_ft[i:j].min()\n",
    "    signal_ft_std = signal_ft[i:j].std()\n",
    "    signal_ft_median = np.quantile(signal_ft[i:j], q=.5)\n",
    "    signal_ft_q95 = np.quantile(signal_ft[i:j], q=.95)\n",
    "    signal_ft_q5 = np.quantile(signal_ft[i:j], q=.05)\n",
    "\n",
    "    feature_list.extend([\n",
    "        signal_ft_mean, signal_ft_max, signal_ft_min, signal_ft_std, \n",
    "        signal_ft_median, signal_ft_q95, signal_ft_q5\n",
    "    ])\n",
    "    \n",
    "    return feature_list\n",
    "\n",
    "\n",
    "def feature_gen(fpz, pz):\n",
    "    sp_boundary_list = [0, 20, 40, 70]\n",
    "    feature_list = []\n",
    "    \n",
    "    for i in range(len(sp_boundary_list) - 1):\n",
    "        feature_list.extend(\n",
    "            fft_feature_gen(sp_boundary_list[i], sp_boundary_list[i + 1], fpz)\n",
    "        )\n",
    "        feature_list.extend(\n",
    "            fft_feature_gen(sp_boundary_list[i], sp_boundary_list[i + 1], pz)\n",
    "        )\n",
    "    return feature_list"
   ]
  },
  {
   "cell_type": "code",
   "execution_count": 19,
   "metadata": {},
   "outputs": [],
   "source": [
    "def min_max_scaler(y):\n",
    "    y_ = y.T\n",
    "    y_min = y_.min(axis=1).reshape(-1, 1)\n",
    "    y_max = y_.max(axis=1).reshape(-1, 1)\n",
    "    res = (y_ - y_min) / (y_max - y_min)\n",
    "    return res.T"
   ]
  },
  {
   "cell_type": "code",
   "execution_count": 20,
   "metadata": {},
   "outputs": [],
   "source": [
    "def train_valid_prep(data, train_person_list=None, valid_preson_list=None):\n",
    "    train_feature_list = []\n",
    "    train_target_list = []\n",
    "    valid_feature_list = []\n",
    "    valid_target_list = []\n",
    "    \n",
    "    for row in tqdm(data):\n",
    "        row['value'] = row['value'].astype(np.float32)\n",
    "        if row['label'] == 'Sleep stage 4':\n",
    "            target = 1\n",
    "        elif row['label'] == 'Sleep stage W':\n",
    "            target = 0\n",
    "        else:\n",
    "            continue\n",
    "            \n",
    "        fpz = row['value'][:, 0]\n",
    "        pz = row['value'][:, 1]\n",
    "        \n",
    "        if  train_person_list is None or row['person'] in train_person_list:\n",
    "            train_feature_list.append(feature_gen(fpz, pz))\n",
    "            train_target_list.append(target)\n",
    "\n",
    "\n",
    "        elif row['person'] in valid_preson_list:\n",
    "            valid_feature_list.append(feature_gen(fpz, pz))\n",
    "            valid_target_list.append(target)\n",
    "\n",
    "        \n",
    "    return np.array(train_feature_list), np.array(train_target_list), np.array(valid_feature_list), np.array(valid_target_list)"
   ]
  },
  {
   "cell_type": "code",
   "execution_count": 21,
   "metadata": {},
   "outputs": [
    {
     "data": {
      "application/vnd.jupyter.widget-view+json": {
       "model_id": "ba260546ddff48bab13c3c761e50b643",
       "version_major": 2,
       "version_minor": 0
      },
      "text/plain": [
       "HBox(children=(FloatProgress(value=0.0, max=324552.0), HTML(value='')))"
      ]
     },
     "metadata": {},
     "output_type": "display_data"
    },
    {
     "name": "stdout",
     "output_type": "stream",
     "text": [
      "\n"
     ]
    },
    {
     "data": {
      "application/vnd.jupyter.widget-view+json": {
       "model_id": "d4794e9a9db0462a9978c0431c86042e",
       "version_major": 2,
       "version_minor": 0
      },
      "text/plain": [
       "HBox(children=(FloatProgress(value=0.0, max=15696.0), HTML(value='')))"
      ]
     },
     "metadata": {},
     "output_type": "display_data"
    },
    {
     "name": "stdout",
     "output_type": "stream",
     "text": [
      "\n"
     ]
    }
   ],
   "source": [
    "X_train, y_train, X_valid, y_valid = train_valid_prep(train_data, train_persons, valid_persons)\n",
    "X_test, y_test, _, _ = train_valid_prep(test_data)"
   ]
  },
  {
   "cell_type": "code",
   "execution_count": 22,
   "metadata": {},
   "outputs": [
    {
     "data": {
      "text/plain": [
       "(array([0.43353376, 1.        , 0.04641768, 0.2664592 , 0.43935563,\n",
       "        0.85979235, 0.09340868, 0.50010765, 1.        , 0.08781661,\n",
       "        0.253104  , 0.41102758, 0.85082921, 0.15966201, 0.09336535,\n",
       "        0.23508602, 0.01448709, 0.05861111, 0.07277104, 0.19693988,\n",
       "        0.02919558, 0.27923223, 0.93316823, 0.02227282, 0.20957389,\n",
       "        0.23412143, 0.51061164, 0.03554995, 0.04513692, 0.10349202,\n",
       "        0.00463566, 0.02559309, 0.03562332, 0.09669267, 0.01464339,\n",
       "        0.18584672, 0.41042295, 0.00629018, 0.1066797 , 0.17391735,\n",
       "        0.35083907, 0.03312618]),\n",
       " array([5.00000007e-02, 1.00000000e+00, 0.00000000e+00, 2.17944935e-01,\n",
       "        8.28408675e-10, 5.00000069e-02, 0.00000000e+00, 5.00000007e-02,\n",
       "        1.00000000e+00, 0.00000000e+00, 2.17944935e-01, 0.00000000e+00,\n",
       "        5.00000058e-02, 0.00000000e+00, 2.84337304e-10, 1.66552561e-09,\n",
       "        0.00000000e+00, 4.03273970e-10, 0.00000000e+00, 7.09512352e-10,\n",
       "        0.00000000e+00, 1.14258558e-09, 1.94467518e-08, 0.00000000e+00,\n",
       "        4.20457269e-09, 0.00000000e+00, 1.50260163e-09, 0.00000000e+00,\n",
       "        5.35536948e-10, 9.40590716e-09, 0.00000000e+00, 1.68067427e-09,\n",
       "        2.20735034e-10, 1.24765251e-09, 0.00000000e+00, 3.58551855e-10,\n",
       "        7.96443178e-09, 0.00000000e+00, 1.41704393e-09, 0.00000000e+00,\n",
       "        2.91843497e-10, 0.00000000e+00]))"
      ]
     },
     "execution_count": 22,
     "metadata": {},
     "output_type": "execute_result"
    }
   ],
   "source": [
    "X_train[52872], X_test[0]"
   ]
  },
  {
   "cell_type": "code",
   "execution_count": 21,
   "metadata": {},
   "outputs": [
    {
     "data": {
      "text/plain": [
       "(0.007833991149384045, 0.05452638937434463, 0.5229357798165137)"
      ]
     },
     "execution_count": 21,
     "metadata": {},
     "output_type": "execute_result"
    }
   ],
   "source": [
    "y_train.mean(), y_valid.mean(), y_test.mean()"
   ]
  },
  {
   "cell_type": "markdown",
   "metadata": {},
   "source": [
    "# train model"
   ]
  },
  {
   "cell_type": "code",
   "execution_count": 23,
   "metadata": {},
   "outputs": [],
   "source": [
    "model = LGBMClassifier(\n",
    "    n_estimators=1_000,\n",
    "    random_state=0,\n",
    ")"
   ]
  },
  {
   "cell_type": "code",
   "execution_count": 24,
   "metadata": {},
   "outputs": [
    {
     "name": "stdout",
     "output_type": "stream",
     "text": [
      "[1]\tvalid_0's binary_logloss: 0.174175\n",
      "Training until validation scores don't improve for 5 rounds\n",
      "[2]\tvalid_0's binary_logloss: 0.17133\n",
      "[3]\tvalid_0's binary_logloss: 0.155704\n",
      "[4]\tvalid_0's binary_logloss: 0.150113\n",
      "[5]\tvalid_0's binary_logloss: 0.148566\n",
      "[6]\tvalid_0's binary_logloss: 0.148008\n",
      "[7]\tvalid_0's binary_logloss: 0.148175\n",
      "[8]\tvalid_0's binary_logloss: 0.147472\n",
      "[9]\tvalid_0's binary_logloss: 0.137996\n",
      "[10]\tvalid_0's binary_logloss: 0.136877\n",
      "[11]\tvalid_0's binary_logloss: 0.136876\n",
      "[12]\tvalid_0's binary_logloss: 0.135384\n",
      "[13]\tvalid_0's binary_logloss: 0.133447\n",
      "[14]\tvalid_0's binary_logloss: 0.133\n",
      "[15]\tvalid_0's binary_logloss: 0.132594\n",
      "[16]\tvalid_0's binary_logloss: 0.132493\n",
      "[17]\tvalid_0's binary_logloss: 0.132086\n",
      "[18]\tvalid_0's binary_logloss: 0.131744\n",
      "[19]\tvalid_0's binary_logloss: 0.131027\n",
      "[20]\tvalid_0's binary_logloss: 0.130553\n",
      "[21]\tvalid_0's binary_logloss: 0.130439\n",
      "[22]\tvalid_0's binary_logloss: 0.130203\n",
      "[23]\tvalid_0's binary_logloss: 0.129629\n",
      "[24]\tvalid_0's binary_logloss: 0.129459\n",
      "[25]\tvalid_0's binary_logloss: 0.129156\n",
      "[26]\tvalid_0's binary_logloss: 0.128989\n",
      "[27]\tvalid_0's binary_logloss: 0.128284\n",
      "[28]\tvalid_0's binary_logloss: 0.127717\n",
      "[29]\tvalid_0's binary_logloss: 0.127471\n",
      "[30]\tvalid_0's binary_logloss: 0.127297\n",
      "[31]\tvalid_0's binary_logloss: 0.126772\n",
      "[32]\tvalid_0's binary_logloss: 0.126987\n",
      "[33]\tvalid_0's binary_logloss: 0.126767\n",
      "[34]\tvalid_0's binary_logloss: 0.126398\n",
      "[35]\tvalid_0's binary_logloss: 0.126077\n",
      "[36]\tvalid_0's binary_logloss: 0.12599\n",
      "[37]\tvalid_0's binary_logloss: 0.125822\n",
      "[38]\tvalid_0's binary_logloss: 0.125327\n",
      "[39]\tvalid_0's binary_logloss: 0.126915\n",
      "[40]\tvalid_0's binary_logloss: 0.131615\n",
      "[41]\tvalid_0's binary_logloss: 0.128795\n",
      "[42]\tvalid_0's binary_logloss: 0.129213\n",
      "[43]\tvalid_0's binary_logloss: 0.128674\n",
      "Early stopping, best iteration is:\n",
      "[38]\tvalid_0's binary_logloss: 0.125327\n"
     ]
    },
    {
     "data": {
      "text/plain": [
       "LGBMClassifier(n_estimators=1000, random_state=0)"
      ]
     },
     "execution_count": 24,
     "metadata": {},
     "output_type": "execute_result"
    }
   ],
   "source": [
    "model.fit(\n",
    "    X=X_train,\n",
    "    y=y_train,\n",
    "    eval_set=[(X_valid, y_valid)],\n",
    "    eval_metric='roc_auc',\n",
    "    callbacks=[early_stopping(5)]\n",
    ")"
   ]
  },
  {
   "cell_type": "markdown",
   "metadata": {},
   "source": [
    "# metrics"
   ]
  },
  {
   "cell_type": "code",
   "execution_count": 39,
   "metadata": {},
   "outputs": [],
   "source": [
    "train_roc_auc_score = roc_auc_score(y_train, model.predict_proba(X_train)[:, 1])\n",
    "valid_roc_auc_score = roc_auc_score(y_valid, model.predict_proba(X_valid)[:, 1])\n",
    "test_roc_auc_score = roc_auc_score(y_test, model.predict_proba(X_test)[:, 1])"
   ]
  },
  {
   "cell_type": "code",
   "execution_count": 40,
   "metadata": {},
   "outputs": [
    {
     "data": {
      "text/plain": [
       "(0.9955997029951092, 0.9794658020917263, 0.9456537298534055)"
      ]
     },
     "execution_count": 40,
     "metadata": {},
     "output_type": "execute_result"
    }
   ],
   "source": [
    "train_roc_auc_score, valid_roc_auc_score, test_roc_auc_score"
   ]
  },
  {
   "cell_type": "markdown",
   "metadata": {},
   "source": [
    "## precision-recall on Sleep stage 4"
   ]
  },
  {
   "cell_type": "code",
   "execution_count": 41,
   "metadata": {},
   "outputs": [
    {
     "data": {
      "text/plain": [
       "array([5.00000007e-02, 1.00000000e+00, 0.00000000e+00, 2.17944935e-01,\n",
       "       8.28408675e-10, 5.00000069e-02, 0.00000000e+00, 5.00000007e-02,\n",
       "       1.00000000e+00, 0.00000000e+00, 2.17944935e-01, 0.00000000e+00,\n",
       "       5.00000058e-02, 0.00000000e+00, 2.84337304e-10, 1.66552561e-09,\n",
       "       0.00000000e+00, 4.03273970e-10, 0.00000000e+00, 7.09512352e-10,\n",
       "       0.00000000e+00, 1.14258558e-09, 1.94467518e-08, 0.00000000e+00,\n",
       "       4.20457269e-09, 0.00000000e+00, 1.50260163e-09, 0.00000000e+00,\n",
       "       5.35536948e-10, 9.40590716e-09, 0.00000000e+00, 1.68067427e-09,\n",
       "       2.20735034e-10, 1.24765251e-09, 0.00000000e+00, 3.58551855e-10,\n",
       "       7.96443178e-09, 0.00000000e+00, 1.41704393e-09, 0.00000000e+00,\n",
       "       2.91843497e-10, 0.00000000e+00])"
      ]
     },
     "execution_count": 41,
     "metadata": {},
     "output_type": "execute_result"
    }
   ],
   "source": [
    "X_test[0]"
   ]
  },
  {
   "cell_type": "code",
   "execution_count": 42,
   "metadata": {},
   "outputs": [],
   "source": [
    "precision, recall, _ = precision_recall_curve(y_test, model.predict_proba(X_test)[:, 1])"
   ]
  },
  {
   "cell_type": "code",
   "execution_count": 43,
   "metadata": {},
   "outputs": [],
   "source": [
    "ind = np.where(recall >= 0.92153996)[0].max()"
   ]
  },
  {
   "cell_type": "code",
   "execution_count": 44,
   "metadata": {},
   "outputs": [
    {
     "data": {
      "text/plain": [
       "(0.8620925461591065, 0.9215399610136452)"
      ]
     },
     "execution_count": 44,
     "metadata": {},
     "output_type": "execute_result"
    }
   ],
   "source": [
    "precision[ind], recall[ind]"
   ]
  },
  {
   "cell_type": "code",
   "execution_count": 45,
   "metadata": {},
   "outputs": [],
   "source": [
    "prc = PrecisionRecallDisplay(precision, recall)"
   ]
  },
  {
   "cell_type": "code",
   "execution_count": 46,
   "metadata": {},
   "outputs": [
    {
     "data": {
      "text/plain": [
       "<sklearn.metrics._plot.precision_recall_curve.PrecisionRecallDisplay at 0x2e1f76a3b70>"
      ]
     },
     "execution_count": 46,
     "metadata": {},
     "output_type": "execute_result"
    },
    {
     "data": {
      "image/png": "[encoded data removed]",
      "text/plain": [
       "<Figure size 432x288 with 1 Axes>"
      ]
     },
     "metadata": {
      "needs_background": "light"
     },
     "output_type": "display_data"
    }
   ],
   "source": [
    "prc.plot()"
   ]
  },
  {
   "cell_type": "markdown",
   "metadata": {},
   "source": [
    "## precision-recall on Sleep stage W"
   ]
  },
  {
   "cell_type": "code",
   "execution_count": 47,
   "metadata": {},
   "outputs": [],
   "source": [
    "y_test_0 = np.ones(len(y_test)) - np.array(y_test)"
   ]
  },
  {
   "cell_type": "code",
   "execution_count": 48,
   "metadata": {},
   "outputs": [],
   "source": [
    "precision, recall, _ = precision_recall_curve(\n",
    "    y_test_0,\n",
    "    model.predict_proba(X_test)[:, 0]\n",
    ")"
   ]
  },
  {
   "cell_type": "code",
   "execution_count": 49,
   "metadata": {},
   "outputs": [],
   "source": [
    "ind = np.where(recall >= 0.51696047)[0].max()"
   ]
  },
  {
   "cell_type": "code",
   "execution_count": 50,
   "metadata": {},
   "outputs": [
    {
     "data": {
      "text/plain": [
       "(0.9541533152575795, 0.5169604700854701)"
      ]
     },
     "execution_count": 50,
     "metadata": {},
     "output_type": "execute_result"
    }
   ],
   "source": [
    "precision[ind], recall[ind]"
   ]
  },
  {
   "cell_type": "code",
   "execution_count": 51,
   "metadata": {},
   "outputs": [
    {
     "data": {
      "text/plain": [
       "<sklearn.metrics._plot.precision_recall_curve.PrecisionRecallDisplay at 0x2e2446ff5f8>"
      ]
     },
     "execution_count": 51,
     "metadata": {},
     "output_type": "execute_result"
    },
    {
     "data": {
      "image/png": "[encoded data removed]",
      "text/plain": [
       "<Figure size 432x288 with 1 Axes>"
      ]
     },
     "metadata": {
      "needs_background": "light"
     },
     "output_type": "display_data"
    }
   ],
   "source": [
    "prc = PrecisionRecallDisplay(precision, recall)\n",
    "prc.plot()"
   ]
  },
  {
   "cell_type": "code",
   "execution_count": null,
   "metadata": {},
   "outputs": [],
   "source": []
  }
 ],
 "metadata": {
  "kernelspec": {
   "display_name": "Python 3",
   "language": "python",
   "name": "python3"
  },
  "language_info": {
   "codemirror_mode": {
    "name": "ipython",
    "version": 3
   },
   "file_extension": ".py",
   "mimetype": "text/x-python",
   "name": "python",
   "nbconvert_exporter": "python",
   "pygments_lexer": "ipython3",
   "version": "3.7.3"
  }
 },
 "nbformat": 4,
 "nbformat_minor": 4
}
